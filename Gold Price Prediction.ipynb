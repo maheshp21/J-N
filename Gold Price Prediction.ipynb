{
 "cells": [
  {
   "cell_type": "markdown",
   "id": "b2d08cf1",
   "metadata": {},
   "source": [
    "Importing Libraries"
   ]
  },
  {
   "cell_type": "code",
   "execution_count": 1,
   "id": "68e95641",
   "metadata": {},
   "outputs": [],
   "source": [
    "import numpy as np\n",
    "import pandas as pd\n",
    "import matplotlib.pyplot as plt\n",
    "import seaborn as sns\n",
    "from sklearn.model_selection import train_test_split\n",
    "from sklearn.ensemble import RandomForestRegressor\n",
    "from sklearn import metrics"
   ]
  },
  {
   "cell_type": "markdown",
   "id": "46720e3a",
   "metadata": {},
   "source": [
    "Data Collection and Processing"
   ]
  },
  {
   "cell_type": "code",
   "execution_count": 7,
   "id": "b887bd1f",
   "metadata": {},
   "outputs": [],
   "source": [
    "#Loading the csv data into pandas dataframe\n",
    "gold_data=pd.read_csv(\"gld_price_data.csv\")"
   ]
  },
  {
   "cell_type": "code",
   "execution_count": 9,
   "id": "b2a1c44c",
   "metadata": {},
   "outputs": [
    {
     "data": {
      "text/html": [
       "<div>\n",
       "<style scoped>\n",
       "    .dataframe tbody tr th:only-of-type {\n",
       "        vertical-align: middle;\n",
       "    }\n",
       "\n",
       "    .dataframe tbody tr th {\n",
       "        vertical-align: top;\n",
       "    }\n",
       "\n",
       "    .dataframe thead th {\n",
       "        text-align: right;\n",
       "    }\n",
       "</style>\n",
       "<table border=\"1\" class=\"dataframe\">\n",
       "  <thead>\n",
       "    <tr style=\"text-align: right;\">\n",
       "      <th></th>\n",
       "      <th>Date</th>\n",
       "      <th>SPX</th>\n",
       "      <th>GLD</th>\n",
       "      <th>USO</th>\n",
       "      <th>SLV</th>\n",
       "      <th>EUR/USD</th>\n",
       "    </tr>\n",
       "  </thead>\n",
       "  <tbody>\n",
       "    <tr>\n",
       "      <th>0</th>\n",
       "      <td>1/2/2008</td>\n",
       "      <td>1447.160034</td>\n",
       "      <td>84.860001</td>\n",
       "      <td>78.470001</td>\n",
       "      <td>15.180</td>\n",
       "      <td>1.471692</td>\n",
       "    </tr>\n",
       "    <tr>\n",
       "      <th>1</th>\n",
       "      <td>1/3/2008</td>\n",
       "      <td>1447.160034</td>\n",
       "      <td>85.570000</td>\n",
       "      <td>78.370003</td>\n",
       "      <td>15.285</td>\n",
       "      <td>1.474491</td>\n",
       "    </tr>\n",
       "    <tr>\n",
       "      <th>2</th>\n",
       "      <td>1/4/2008</td>\n",
       "      <td>1411.630005</td>\n",
       "      <td>85.129997</td>\n",
       "      <td>77.309998</td>\n",
       "      <td>15.167</td>\n",
       "      <td>1.475492</td>\n",
       "    </tr>\n",
       "    <tr>\n",
       "      <th>3</th>\n",
       "      <td>1/7/2008</td>\n",
       "      <td>1416.180054</td>\n",
       "      <td>84.769997</td>\n",
       "      <td>75.500000</td>\n",
       "      <td>15.053</td>\n",
       "      <td>1.468299</td>\n",
       "    </tr>\n",
       "    <tr>\n",
       "      <th>4</th>\n",
       "      <td>1/8/2008</td>\n",
       "      <td>1390.189941</td>\n",
       "      <td>86.779999</td>\n",
       "      <td>76.059998</td>\n",
       "      <td>15.590</td>\n",
       "      <td>1.557099</td>\n",
       "    </tr>\n",
       "  </tbody>\n",
       "</table>\n",
       "</div>"
      ],
      "text/plain": [
       "       Date          SPX        GLD        USO     SLV   EUR/USD\n",
       "0  1/2/2008  1447.160034  84.860001  78.470001  15.180  1.471692\n",
       "1  1/3/2008  1447.160034  85.570000  78.370003  15.285  1.474491\n",
       "2  1/4/2008  1411.630005  85.129997  77.309998  15.167  1.475492\n",
       "3  1/7/2008  1416.180054  84.769997  75.500000  15.053  1.468299\n",
       "4  1/8/2008  1390.189941  86.779999  76.059998  15.590  1.557099"
      ]
     },
     "execution_count": 9,
     "metadata": {},
     "output_type": "execute_result"
    }
   ],
   "source": [
    "#first five data items\n",
    "gold_data.head()"
   ]
  },
  {
   "cell_type": "code",
   "execution_count": 10,
   "id": "515d9ab5",
   "metadata": {
    "scrolled": true
   },
   "outputs": [
    {
     "data": {
      "text/html": [
       "<div>\n",
       "<style scoped>\n",
       "    .dataframe tbody tr th:only-of-type {\n",
       "        vertical-align: middle;\n",
       "    }\n",
       "\n",
       "    .dataframe tbody tr th {\n",
       "        vertical-align: top;\n",
       "    }\n",
       "\n",
       "    .dataframe thead th {\n",
       "        text-align: right;\n",
       "    }\n",
       "</style>\n",
       "<table border=\"1\" class=\"dataframe\">\n",
       "  <thead>\n",
       "    <tr style=\"text-align: right;\">\n",
       "      <th></th>\n",
       "      <th>Date</th>\n",
       "      <th>SPX</th>\n",
       "      <th>GLD</th>\n",
       "      <th>USO</th>\n",
       "      <th>SLV</th>\n",
       "      <th>EUR/USD</th>\n",
       "    </tr>\n",
       "  </thead>\n",
       "  <tbody>\n",
       "    <tr>\n",
       "      <th>2285</th>\n",
       "      <td>5/8/2018</td>\n",
       "      <td>2671.919922</td>\n",
       "      <td>124.589996</td>\n",
       "      <td>14.0600</td>\n",
       "      <td>15.5100</td>\n",
       "      <td>1.186789</td>\n",
       "    </tr>\n",
       "    <tr>\n",
       "      <th>2286</th>\n",
       "      <td>5/9/2018</td>\n",
       "      <td>2697.790039</td>\n",
       "      <td>124.330002</td>\n",
       "      <td>14.3700</td>\n",
       "      <td>15.5300</td>\n",
       "      <td>1.184722</td>\n",
       "    </tr>\n",
       "    <tr>\n",
       "      <th>2287</th>\n",
       "      <td>5/10/2018</td>\n",
       "      <td>2723.070068</td>\n",
       "      <td>125.180000</td>\n",
       "      <td>14.4100</td>\n",
       "      <td>15.7400</td>\n",
       "      <td>1.191753</td>\n",
       "    </tr>\n",
       "    <tr>\n",
       "      <th>2288</th>\n",
       "      <td>5/14/2018</td>\n",
       "      <td>2730.129883</td>\n",
       "      <td>124.489998</td>\n",
       "      <td>14.3800</td>\n",
       "      <td>15.5600</td>\n",
       "      <td>1.193118</td>\n",
       "    </tr>\n",
       "    <tr>\n",
       "      <th>2289</th>\n",
       "      <td>5/16/2018</td>\n",
       "      <td>2725.780029</td>\n",
       "      <td>122.543800</td>\n",
       "      <td>14.4058</td>\n",
       "      <td>15.4542</td>\n",
       "      <td>1.182033</td>\n",
       "    </tr>\n",
       "  </tbody>\n",
       "</table>\n",
       "</div>"
      ],
      "text/plain": [
       "           Date          SPX         GLD      USO      SLV   EUR/USD\n",
       "2285   5/8/2018  2671.919922  124.589996  14.0600  15.5100  1.186789\n",
       "2286   5/9/2018  2697.790039  124.330002  14.3700  15.5300  1.184722\n",
       "2287  5/10/2018  2723.070068  125.180000  14.4100  15.7400  1.191753\n",
       "2288  5/14/2018  2730.129883  124.489998  14.3800  15.5600  1.193118\n",
       "2289  5/16/2018  2725.780029  122.543800  14.4058  15.4542  1.182033"
      ]
     },
     "execution_count": 10,
     "metadata": {},
     "output_type": "execute_result"
    }
   ],
   "source": [
    "#last five data items\n",
    "gold_data.tail()"
   ]
  },
  {
   "cell_type": "code",
   "execution_count": 12,
   "id": "55f0f600",
   "metadata": {},
   "outputs": [
    {
     "data": {
      "text/plain": [
       "(2290, 6)"
      ]
     },
     "execution_count": 12,
     "metadata": {},
     "output_type": "execute_result"
    }
   ],
   "source": [
    "# number of rows and columns\n",
    "gold_data.shape"
   ]
  },
  {
   "cell_type": "code",
   "execution_count": 13,
   "id": "070cbf95",
   "metadata": {},
   "outputs": [
    {
     "name": "stdout",
     "output_type": "stream",
     "text": [
      "<class 'pandas.core.frame.DataFrame'>\n",
      "RangeIndex: 2290 entries, 0 to 2289\n",
      "Data columns (total 6 columns):\n",
      " #   Column   Non-Null Count  Dtype  \n",
      "---  ------   --------------  -----  \n",
      " 0   Date     2290 non-null   object \n",
      " 1   SPX      2290 non-null   float64\n",
      " 2   GLD      2290 non-null   float64\n",
      " 3   USO      2290 non-null   float64\n",
      " 4   SLV      2290 non-null   float64\n",
      " 5   EUR/USD  2290 non-null   float64\n",
      "dtypes: float64(5), object(1)\n",
      "memory usage: 107.5+ KB\n"
     ]
    }
   ],
   "source": [
    "#basic info of the data\n",
    "gold_data.info()"
   ]
  },
  {
   "cell_type": "code",
   "execution_count": 18,
   "id": "0e809e20",
   "metadata": {},
   "outputs": [
    {
     "data": {
      "text/plain": [
       "Date       0\n",
       "SPX        0\n",
       "GLD        0\n",
       "USO        0\n",
       "SLV        0\n",
       "EUR/USD    0\n",
       "dtype: int64"
      ]
     },
     "execution_count": 18,
     "metadata": {},
     "output_type": "execute_result"
    }
   ],
   "source": [
    "#checking the number of missing values\n",
    "gold_data.isnull().sum()"
   ]
  },
  {
   "cell_type": "code",
   "execution_count": 19,
   "id": "99e9b249",
   "metadata": {},
   "outputs": [
    {
     "data": {
      "text/html": [
       "<div>\n",
       "<style scoped>\n",
       "    .dataframe tbody tr th:only-of-type {\n",
       "        vertical-align: middle;\n",
       "    }\n",
       "\n",
       "    .dataframe tbody tr th {\n",
       "        vertical-align: top;\n",
       "    }\n",
       "\n",
       "    .dataframe thead th {\n",
       "        text-align: right;\n",
       "    }\n",
       "</style>\n",
       "<table border=\"1\" class=\"dataframe\">\n",
       "  <thead>\n",
       "    <tr style=\"text-align: right;\">\n",
       "      <th></th>\n",
       "      <th>SPX</th>\n",
       "      <th>GLD</th>\n",
       "      <th>USO</th>\n",
       "      <th>SLV</th>\n",
       "      <th>EUR/USD</th>\n",
       "    </tr>\n",
       "  </thead>\n",
       "  <tbody>\n",
       "    <tr>\n",
       "      <th>count</th>\n",
       "      <td>2290.000000</td>\n",
       "      <td>2290.000000</td>\n",
       "      <td>2290.000000</td>\n",
       "      <td>2290.000000</td>\n",
       "      <td>2290.000000</td>\n",
       "    </tr>\n",
       "    <tr>\n",
       "      <th>mean</th>\n",
       "      <td>1654.315776</td>\n",
       "      <td>122.732875</td>\n",
       "      <td>31.842221</td>\n",
       "      <td>20.084997</td>\n",
       "      <td>1.283653</td>\n",
       "    </tr>\n",
       "    <tr>\n",
       "      <th>std</th>\n",
       "      <td>519.111540</td>\n",
       "      <td>23.283346</td>\n",
       "      <td>19.523517</td>\n",
       "      <td>7.092566</td>\n",
       "      <td>0.131547</td>\n",
       "    </tr>\n",
       "    <tr>\n",
       "      <th>min</th>\n",
       "      <td>676.530029</td>\n",
       "      <td>70.000000</td>\n",
       "      <td>7.960000</td>\n",
       "      <td>8.850000</td>\n",
       "      <td>1.039047</td>\n",
       "    </tr>\n",
       "    <tr>\n",
       "      <th>25%</th>\n",
       "      <td>1239.874969</td>\n",
       "      <td>109.725000</td>\n",
       "      <td>14.380000</td>\n",
       "      <td>15.570000</td>\n",
       "      <td>1.171313</td>\n",
       "    </tr>\n",
       "    <tr>\n",
       "      <th>50%</th>\n",
       "      <td>1551.434998</td>\n",
       "      <td>120.580002</td>\n",
       "      <td>33.869999</td>\n",
       "      <td>17.268500</td>\n",
       "      <td>1.303297</td>\n",
       "    </tr>\n",
       "    <tr>\n",
       "      <th>75%</th>\n",
       "      <td>2073.010070</td>\n",
       "      <td>132.840004</td>\n",
       "      <td>37.827501</td>\n",
       "      <td>22.882500</td>\n",
       "      <td>1.369971</td>\n",
       "    </tr>\n",
       "    <tr>\n",
       "      <th>max</th>\n",
       "      <td>2872.870117</td>\n",
       "      <td>184.589996</td>\n",
       "      <td>117.480003</td>\n",
       "      <td>47.259998</td>\n",
       "      <td>1.598798</td>\n",
       "    </tr>\n",
       "  </tbody>\n",
       "</table>\n",
       "</div>"
      ],
      "text/plain": [
       "               SPX          GLD          USO          SLV      EUR/USD\n",
       "count  2290.000000  2290.000000  2290.000000  2290.000000  2290.000000\n",
       "mean   1654.315776   122.732875    31.842221    20.084997     1.283653\n",
       "std     519.111540    23.283346    19.523517     7.092566     0.131547\n",
       "min     676.530029    70.000000     7.960000     8.850000     1.039047\n",
       "25%    1239.874969   109.725000    14.380000    15.570000     1.171313\n",
       "50%    1551.434998   120.580002    33.869999    17.268500     1.303297\n",
       "75%    2073.010070   132.840004    37.827501    22.882500     1.369971\n",
       "max    2872.870117   184.589996   117.480003    47.259998     1.598798"
      ]
     },
     "execution_count": 19,
     "metadata": {},
     "output_type": "execute_result"
    }
   ],
   "source": [
    "#getting the statistical measures of data\n",
    "gold_data.describe()"
   ]
  },
  {
   "cell_type": "markdown",
   "id": "2f619721",
   "metadata": {},
   "source": [
    "Correlation:\n",
    "1.Positive Correlation (if one attr incrs then other other attr incrs)\n",
    "2.Negative Correlation (if one attr incrs then other other attr decrs)"
   ]
  },
  {
   "cell_type": "code",
   "execution_count": 20,
   "id": "7965da01",
   "metadata": {},
   "outputs": [],
   "source": [
    "correlation=gold_data.corr()"
   ]
  },
  {
   "cell_type": "code",
   "execution_count": 22,
   "id": "bf5d87a4",
   "metadata": {},
   "outputs": [
    {
     "data": {
      "text/plain": [
       "<AxesSubplot:>"
      ]
     },
     "execution_count": 22,
     "metadata": {},
     "output_type": "execute_result"
    },
    {
     "data": {
      "image/png": "[encoded data removed]",
      "text/plain": [
       "<Figure size 576x576 with 2 Axes>"
      ]
     },
     "metadata": {
      "needs_background": "light"
     },
     "output_type": "display_data"
    }
   ],
   "source": [
    "#constructing a heatmap to understand the correlation\n",
    "plt.figure(figsize=(8,8))\n",
    "sns.heatmap(correlation,cbar=True,square=True,fmt='.1f',annot=True,annot_kws={'size':8},cmap='Blues')"
   ]
  },
  {
   "cell_type": "code",
   "execution_count": 23,
   "id": "012f9e9a",
   "metadata": {},
   "outputs": [
    {
     "name": "stdout",
     "output_type": "stream",
     "text": [
      "SPX        0.049345\n",
      "GLD        1.000000\n",
      "USO       -0.186360\n",
      "SLV        0.866632\n",
      "EUR/USD   -0.024375\n",
      "Name: GLD, dtype: float64\n"
     ]
    }
   ],
   "source": [
    "#correlation values of gold\n",
    "print(correlation['GLD'])"
   ]
  },
  {
   "cell_type": "code",
   "execution_count": 25,
   "id": "6240138b",
   "metadata": {},
   "outputs": [
    {
     "name": "stderr",
     "output_type": "stream",
     "text": [
      "C:\\Users\\PVSMAHESH\\anaconda3\\lib\\site-packages\\seaborn\\distributions.py:2619: FutureWarning: `distplot` is a deprecated function and will be removed in a future version. Please adapt your code to use either `displot` (a figure-level function with similar flexibility) or `histplot` (an axes-level function for histograms).\n",
      "  warnings.warn(msg, FutureWarning)\n"
     ]
    },
    {
     "data": {
      "text/plain": [
       "<AxesSubplot:xlabel='GLD', ylabel='Density'>"
      ]
     },
     "execution_count": 25,
     "metadata": {},
     "output_type": "execute_result"
    },
    {
     "data": {
      "image/png": "[encoded data removed]",
      "text/plain": [
       "<Figure size 432x288 with 1 Axes>"
      ]
     },
     "metadata": {
      "needs_background": "light"
     },
     "output_type": "display_data"
    }
   ],
   "source": [
    "#checking the distribution of GLD price\n",
    "sns.distplot(gold_data['GLD'],color='green')"
   ]
  },
  {
   "cell_type": "markdown",
   "id": "aea298cf",
   "metadata": {},
   "source": [
    "Splitting the features(....) and target(GLD)"
   ]
  },
  {
   "cell_type": "code",
   "execution_count": 28,
   "id": "3a219fb4",
   "metadata": {},
   "outputs": [],
   "source": [
    "#x = features y=target\n",
    "x=gold_data.drop(['Date','GLD'],axis=1)\n",
    "y=gold_data['GLD']"
   ]
  },
  {
   "cell_type": "code",
   "execution_count": 29,
   "id": "7be09e2f",
   "metadata": {},
   "outputs": [
    {
     "name": "stdout",
     "output_type": "stream",
     "text": [
      "              SPX        USO      SLV   EUR/USD\n",
      "0     1447.160034  78.470001  15.1800  1.471692\n",
      "1     1447.160034  78.370003  15.2850  1.474491\n",
      "2     1411.630005  77.309998  15.1670  1.475492\n",
      "3     1416.180054  75.500000  15.0530  1.468299\n",
      "4     1390.189941  76.059998  15.5900  1.557099\n",
      "...           ...        ...      ...       ...\n",
      "2285  2671.919922  14.060000  15.5100  1.186789\n",
      "2286  2697.790039  14.370000  15.5300  1.184722\n",
      "2287  2723.070068  14.410000  15.7400  1.191753\n",
      "2288  2730.129883  14.380000  15.5600  1.193118\n",
      "2289  2725.780029  14.405800  15.4542  1.182033\n",
      "\n",
      "[2290 rows x 4 columns]\n"
     ]
    }
   ],
   "source": [
    "print(x)"
   ]
  },
  {
   "cell_type": "code",
   "execution_count": 30,
   "id": "82adba94",
   "metadata": {},
   "outputs": [
    {
     "name": "stdout",
     "output_type": "stream",
     "text": [
      "0        84.860001\n",
      "1        85.570000\n",
      "2        85.129997\n",
      "3        84.769997\n",
      "4        86.779999\n",
      "           ...    \n",
      "2285    124.589996\n",
      "2286    124.330002\n",
      "2287    125.180000\n",
      "2288    124.489998\n",
      "2289    122.543800\n",
      "Name: GLD, Length: 2290, dtype: float64\n"
     ]
    }
   ],
   "source": [
    "print(y)"
   ]
  },
  {
   "cell_type": "markdown",
   "id": "76d3a3ec",
   "metadata": {},
   "source": [
    "Splitting into training and testing data"
   ]
  },
  {
   "cell_type": "code",
   "execution_count": 32,
   "id": "d63884c3",
   "metadata": {},
   "outputs": [],
   "source": [
    "X_train,X_test,Y_train,Y_test=train_test_split(x,y,test_size=0.2,random_state=2)"
   ]
  },
  {
   "cell_type": "markdown",
   "id": "52ee610f",
   "metadata": {},
   "source": [
    "Model Training : Random Forest Regressor"
   ]
  },
  {
   "cell_type": "code",
   "execution_count": 33,
   "id": "d66eb84a",
   "metadata": {},
   "outputs": [],
   "source": [
    "regressor=RandomForestRegressor(n_estimators=100)"
   ]
  },
  {
   "cell_type": "code",
   "execution_count": 34,
   "id": "b7d961d7",
   "metadata": {},
   "outputs": [
    {
     "data": {
      "text/plain": [
       "RandomForestRegressor()"
      ]
     },
     "execution_count": 34,
     "metadata": {},
     "output_type": "execute_result"
    }
   ],
   "source": [
    "#training the model\n",
    "regressor.fit(X_train,Y_train)"
   ]
  },
  {
   "cell_type": "markdown",
   "id": "1a9834fb",
   "metadata": {},
   "source": [
    "Model Evaluation"
   ]
  },
  {
   "cell_type": "code",
   "execution_count": 35,
   "id": "81c71d7c",
   "metadata": {},
   "outputs": [],
   "source": [
    "#prediction on test data\n",
    "test_data_prediction=regressor.predict(X_test)"
   ]
  },
  {
   "cell_type": "code",
   "execution_count": 36,
   "id": "8af2121c",
   "metadata": {},
   "outputs": [
    {
     "name": "stdout",
     "output_type": "stream",
     "text": [
      "[168.58519946  82.44439989 116.00600033 127.58020077 120.72010104\n",
      " 154.6847978  149.92369764 126.25089981 117.64469871 125.85180105\n",
      " 116.75570074 172.72590101 141.08869821 167.9463993  115.29250034\n",
      " 117.64790038 139.73880341 170.2575011  158.84000297 158.23319921\n",
      " 155.17050042 125.1777     175.63340021 157.04130286 125.19380031\n",
      "  93.85549993  77.32990058 120.44960009 119.09099921 167.40749932\n",
      "  88.20180055 125.22259994  91.17120105 117.7125003  121.13239942\n",
      " 136.34280004 115.19440119 114.80550072 147.24369956 107.17370122\n",
      " 104.62570256  87.14229786 126.60190032 118.13670003 153.13309938\n",
      " 119.76409987 108.5343     108.0765985   93.0939002  126.95169825\n",
      "  74.83840045 113.59929914 121.41240019 111.23709906 118.76159902\n",
      " 120.77879939 159.78140078 166.92660138 147.05779691  86.02259857\n",
      "  94.2271006   86.93089913  90.5176998  119.08390074 126.42570044\n",
      " 127.5431997  169.5498006  122.35229926 117.30689897  98.30710056\n",
      " 168.20760181 142.72659858 132.45130243 121.22580247 121.06619932\n",
      " 119.71340043 114.40990178 118.30410051 107.10490107 127.79420046\n",
      " 114.12189978 106.62010011 116.83770102 119.68269852  89.20600076\n",
      "  88.30119866 145.84680313 127.27840032 113.37290007 110.24519843\n",
      " 108.15609878  77.15159915 168.8799017  114.0126991  121.59119925\n",
      " 127.98620195 154.93829838  91.7092996  135.08680123 159.32710343\n",
      " 126.31020061 125.10080081 130.49730166 114.69150121 119.83990006\n",
      "  92.08009967 110.35929886 165.65980004 157.05429887 114.19689954\n",
      " 106.67390136  79.4465004  113.19340045 125.80120092 107.08059957\n",
      " 119.44880092 155.98900361 159.90609977 120.2680999  134.95430309\n",
      " 101.20900009 117.56579804 119.26090004 112.90820086 102.77849901\n",
      " 160.15519803  99.21500039 148.37869844 125.68570127 170.1897988\n",
      " 125.58619931 127.37969751 127.1963012  113.81429925 112.88730064\n",
      " 123.57139901 102.0677989   89.31999985 124.58519988 101.29379939\n",
      " 107.11019949 113.49940059 117.41760127  99.11289945 121.4508009\n",
      " 163.10309939  87.49069883 106.69699997 117.33400041 127.6836012\n",
      " 124.28040082  80.86839895 120.12480062 157.62409911  88.15680005\n",
      " 110.36709981 118.7863992  172.14719871 103.03549884 105.36870055\n",
      " 122.35130023 158.05439876  87.6866983   93.09940011 112.91720004\n",
      " 177.53069995 113.90539997 119.30649997  94.49220099 125.90420024\n",
      " 166.44430051 114.80510072 116.81050142  88.37849867 148.74600033\n",
      " 120.2603      89.31399983 112.52940009 117.20680059 118.73350128\n",
      "  87.94189936  94.11030031 116.91380003 118.52870204 120.30650083\n",
      " 126.59509856 121.81690001 149.51009977 164.79240006 118.52659968\n",
      " 120.34330118 151.72280071 118.45949907 173.08659853 105.31839918\n",
      " 104.93720114 149.23500055 113.48230082 124.88820095 146.76209933\n",
      " 119.75680125 115.37000041 112.76219995 113.41500209 141.89830166\n",
      " 117.87229765 102.93250061 115.81090099 103.9600019   98.39260019\n",
      " 117.45490074  90.81230012  91.61410063 153.27339909 102.72929971\n",
      " 154.85790122 114.37700161 138.89470065  90.20379859 115.53589994\n",
      " 114.79459951 123.1108004  121.84660025 165.32370157  92.87539933\n",
      " 135.11610123 121.37119923 120.76280098 104.6919002  142.44210301\n",
      " 121.07139919 116.70940062 113.43240072 126.98489833 122.63659957\n",
      " 125.8260995  121.20430035  86.82139887 132.28180124 144.85460188\n",
      "  92.65439952 156.86149878 159.15120309 126.37709903 164.32249893\n",
      " 108.92069939 110.00180084 103.70639834  94.10750076 127.8505029\n",
      " 107.12020052 161.04229941 121.64990083 132.02080071 130.49540179\n",
      " 159.95080067  90.12019897 175.03300225 127.90990032 126.60919907\n",
      "  86.52449937 124.43499925 150.53199749  89.5841003  106.86739968\n",
      " 108.90039991  84.36969903 135.62260092 154.841003   140.36980348\n",
      "  74.75389986 152.64890104 126.20509993 126.75749982 127.48049906\n",
      " 108.42739934 156.33280093 114.54890095 117.04300171 125.20779897\n",
      " 154.04770183 121.32260021 156.52659811  92.95690051 125.49280104\n",
      " 125.21270046  88.13990074  92.09549925 126.29229911 128.45440336\n",
      " 113.11750035 117.48689722 120.90600066 127.08709842 119.489601\n",
      " 136.12820052  94.0365992  119.88320018 113.19400098  94.28869934\n",
      " 108.8929997   87.6345991  109.27109949  89.5068      92.38010013\n",
      " 131.47450301 162.25420024  89.4483997  119.66360048 133.28810147\n",
      " 123.81750028 128.36440254 101.8872983   89.1453991  131.40790097\n",
      " 120.02760034 108.84709962 168.70840121 115.24770022  86.55779874\n",
      " 119.06410081  90.88059942 161.3834003  116.44760039 121.51509998\n",
      " 160.18529838 119.99499919 112.72639945 108.48969853 126.61309942\n",
      "  76.44570025 102.9726998  127.84900304 121.82399926  92.52809997\n",
      " 132.37090071 118.27840114 115.8395998  154.24250282 160.31670106\n",
      " 109.76260002 152.52299736 119.26000101 160.34910097 118.36630014\n",
      " 158.26009983 115.12149981 116.79650038 148.58119846 114.91210064\n",
      " 125.53349869 165.04379924 117.95370012 125.07589969 153.21510392\n",
      " 153.51410261 132.20830084 114.91320016 121.29700196 124.80050087\n",
      "  89.91450005 123.25769982 155.07390179 111.70950025 106.68069985\n",
      " 162.39490106 118.60719951 165.64040036 134.13050114 114.97579963\n",
      " 152.8755981  168.53129929 115.3331001  113.91290096 157.81829837\n",
      "  85.30329863 127.09360066 127.84740029 128.9075999  124.26830028\n",
      " 123.8520007   90.53510035 153.16589964  97.08359975 137.63219926\n",
      "  89.09029926 106.56370012 115.05600055 112.82380097 123.95989919\n",
      "  91.37619914 125.38680137 162.23789823 119.95449931 165.07710078\n",
      " 126.63429848 112.2751001  127.62309911  95.04269947  90.80759997\n",
      " 103.09059903 120.87630031  83.08199942 126.2494004  159.30490509\n",
      " 117.36630084 118.17160001 119.92530014 122.63609946 120.10720136\n",
      " 121.55320004 118.29410055 107.03780005 148.05379966 126.20249884\n",
      " 115.81560092  73.92509995 127.88590138 154.14320076 122.86539994\n",
      " 125.63690028  88.80090031 103.11799893 124.42270076 120.13920031\n",
      "  73.47340072 151.77679993 121.34900025 104.66200014  86.29759763\n",
      " 115.09589928 172.17879774 119.93340038 160.13899813 113.18819949\n",
      " 121.44669997 118.54720087  95.91579982 118.51220035 125.91070041\n",
      " 118.55789956  96.05140078 153.67570194 122.16889995 147.20509974\n",
      " 159.41190205 113.65620002 122.59949932 148.89909769 127.18780017\n",
      " 165.66380059 135.74230092 119.90519949 167.45929938 108.31909966\n",
      " 121.72649872 139.49160158 106.66079906]\n"
     ]
    }
   ],
   "source": [
    "print(test_data_prediction)"
   ]
  },
  {
   "cell_type": "code",
   "execution_count": 37,
   "id": "eb7661d6",
   "metadata": {},
   "outputs": [
    {
     "name": "stdout",
     "output_type": "stream",
     "text": [
      "R squared error :  0.9897592593143476\n"
     ]
    }
   ],
   "source": [
    "#R squared error\n",
    "error_score=metrics.r2_score(Y_test,test_data_prediction)\n",
    "print('R squared error : ',error_score)"
   ]
  },
  {
   "cell_type": "markdown",
   "id": "60b701fe",
   "metadata": {},
   "source": [
    "Compare actual and predicted values in a Plot"
   ]
  },
  {
   "cell_type": "code",
   "execution_count": 39,
   "id": "5a6a4b1d",
   "metadata": {},
   "outputs": [],
   "source": [
    "Y_test=list(Y_test)"
   ]
  },
  {
   "cell_type": "code",
   "execution_count": 40,
   "id": "6eb51042",
   "metadata": {},
   "outputs": [
    {
     "data": {
      "image/png": "[encoded data removed]",
      "text/plain": [
       "<Figure size 432x288 with 1 Axes>"
      ]
     },
     "metadata": {
      "needs_background": "light"
     },
     "output_type": "display_data"
    }
   ],
   "source": [
    "plt.plot(Y_test,color='blue',label='Actual Values')\n",
    "plt.plot(test_data_prediction,color='green',label='Predicted Values')\n",
    "plt.title('Actual Price vs Predicted Price')\n",
    "plt.xlabel('Number of values')\n",
    "plt.ylabel('GLD Price')\n",
    "plt.legend()\n",
    "plt.show()"
   ]
  }
 ],
 "metadata": {
  "kernelspec": {
   "display_name": "Python 3 (ipykernel)",
   "language": "python",
   "name": "python3"
  },
  "language_info": {
   "codemirror_mode": {
    "name": "ipython",
    "version": 3
   },
   "file_extension": ".py",
   "mimetype": "text/x-python",
   "name": "python",
   "nbconvert_exporter": "python",
   "pygments_lexer": "ipython3",
   "version": "3.9.7"
  }
 },
 "nbformat": 4,
 "nbformat_minor": 5
}
